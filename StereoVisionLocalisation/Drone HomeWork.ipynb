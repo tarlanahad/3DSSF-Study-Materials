{
 "cells": [
  {
   "cell_type": "code",
   "execution_count": 5,
   "metadata": {
    "collapsed": true,
    "ExecuteTime": {
     "end_time": "2023-10-10T11:24:31.771066Z",
     "start_time": "2023-10-10T11:24:31.766099Z"
    }
   },
   "outputs": [],
   "source": [
    "import numpy as np\n",
    "import pandas as pd\n",
    "import cv2\n",
    "import matplotlib.pyplot as plt\n",
    "import matplotlib.animation as animation\n",
    "from mpl_toolkits.mplot3d import Axes3D\n",
    "%matplotlib qt"
   ]
  },
  {
   "cell_type": "code",
   "execution_count": 6,
   "outputs": [
    {
     "data": {
      "text/plain": "                         name             dev0             dev1\n0  Image_w1920_h1200_fn12.jpg  [1223.5, 576.0]  [1421.0, 697.0]\n1  Image_w1920_h1200_fn13.jpg  [1165.0, 551.5]  [1458.0, 681.0]\n2  Image_w1920_h1200_fn14.jpg  [1103.5, 520.0]  [1499.5, 663.0]\n3  Image_w1920_h1200_fn15.jpg  [1043.0, 497.0]  [1546.5, 642.0]\n4  Image_w1920_h1200_fn16.jpg   [981.5, 474.0]  [1597.0, 628.5]",
      "text/html": "<div>\n<style scoped>\n    .dataframe tbody tr th:only-of-type {\n        vertical-align: middle;\n    }\n\n    .dataframe tbody tr th {\n        vertical-align: top;\n    }\n\n    .dataframe thead th {\n        text-align: right;\n    }\n</style>\n<table border=\"1\" class=\"dataframe\">\n  <thead>\n    <tr style=\"text-align: right;\">\n      <th></th>\n      <th>name</th>\n      <th>dev0</th>\n      <th>dev1</th>\n    </tr>\n  </thead>\n  <tbody>\n    <tr>\n      <th>0</th>\n      <td>Image_w1920_h1200_fn12.jpg</td>\n      <td>[1223.5, 576.0]</td>\n      <td>[1421.0, 697.0]</td>\n    </tr>\n    <tr>\n      <th>1</th>\n      <td>Image_w1920_h1200_fn13.jpg</td>\n      <td>[1165.0, 551.5]</td>\n      <td>[1458.0, 681.0]</td>\n    </tr>\n    <tr>\n      <th>2</th>\n      <td>Image_w1920_h1200_fn14.jpg</td>\n      <td>[1103.5, 520.0]</td>\n      <td>[1499.5, 663.0]</td>\n    </tr>\n    <tr>\n      <th>3</th>\n      <td>Image_w1920_h1200_fn15.jpg</td>\n      <td>[1043.0, 497.0]</td>\n      <td>[1546.5, 642.0]</td>\n    </tr>\n    <tr>\n      <th>4</th>\n      <td>Image_w1920_h1200_fn16.jpg</td>\n      <td>[981.5, 474.0]</td>\n      <td>[1597.0, 628.5]</td>\n    </tr>\n  </tbody>\n</table>\n</div>"
     },
     "execution_count": 6,
     "metadata": {},
     "output_type": "execute_result"
    }
   ],
   "source": [
    "path_position_df = pd.read_csv('data/drone_path_position.csv')\n",
    "path_position_df['dev0'] = [np.array(row[1:-1].split()).astype(float) for row in path_position_df['dev0']]\n",
    "path_position_df['dev1'] = [np.array(row[1:-1].split()).astype(float) for row in path_position_df['dev1']]\n",
    "path_position_df[:5]"
   ],
   "metadata": {
    "collapsed": false,
    "ExecuteTime": {
     "end_time": "2023-10-10T11:24:32.174220Z",
     "start_time": "2023-10-10T11:24:32.162481Z"
    }
   }
  },
  {
   "cell_type": "code",
   "execution_count": 3,
   "outputs": [],
   "source": [
    "# Create a figure\n",
    "fig = plt.figure(figsize=(10, 10))\n",
    "\n",
    "# Create subplots\n",
    "ax0 = fig.add_subplot(1, 2, 1)\n",
    "ax1 = fig.add_subplot(1, 2, 2)\n",
    "\n",
    "\n",
    "\n",
    "# Get number of frames\n",
    "N = len(path_position_df)\n",
    "\n",
    "# Animation update function\n",
    "def update(t):\n",
    "    # Clear each subplot\n",
    "    ax0.cla()\n",
    "    ax1.cla()\n",
    "\n",
    "    # Retrieve the image name and coordinates\n",
    "    row = path_position_df.iloc[t]\n",
    "    image_name = row['name']\n",
    "    dev0_coordinates = row['dev0']\n",
    "    dev1_coordinates = row['dev1']\n",
    "\n",
    "    # Load the images\n",
    "    dev0_image = cv2.imread(f'data/drone_dataset/dev0/Dev0_{image_name}')\n",
    "    dev1_image = cv2.imread(f'data/drone_dataset/dev1/Dev1_{image_name}')\n",
    "\n",
    "    # Draw circles on the images\n",
    "    cv2.circle(dev0_image, (int(dev0_coordinates[0]), int(dev0_coordinates[1])), 40, (0, 255, 0), 3)\n",
    "    cv2.circle(dev1_image, (int(dev1_coordinates[0]), int(dev1_coordinates[1])), 40, (0, 255, 0), 3)\n",
    "\n",
    "    # Convert BGR image to RGB for plotting\n",
    "    dev0_image_rgb = cv2.cvtColor(dev0_image, cv2.COLOR_BGR2RGB)\n",
    "    dev1_image_rgb = cv2.cvtColor(dev1_image, cv2.COLOR_BGR2RGB)\n",
    "\n",
    "    # Display dev0 image\n",
    "    ax0.imshow(dev1_image_rgb)\n",
    "    ax0.set_title('Dev1 Image')\n",
    "    ax0.axis('off')\n",
    "\n",
    "    # Display dev1 image\n",
    "    ax1.imshow(dev0_image_rgb)\n",
    "    ax1.set_title('Dev0 Image')\n",
    "    ax1.axis('off')\n",
    "\n",
    "\n",
    "# Create animation\n",
    "ani = animation.FuncAnimation(fig, update, frames=N)\n",
    "\n",
    "# Display animation\n",
    "plt.show()\n"
   ],
   "metadata": {
    "collapsed": false,
    "ExecuteTime": {
     "end_time": "2023-10-10T11:20:06.599666Z",
     "start_time": "2023-10-10T11:20:06.501353Z"
    }
   }
  },
  {
   "cell_type": "markdown",
   "source": [
    "# Triangulate Points to Get World Coordinates"
   ],
   "metadata": {
    "collapsed": false
   }
  },
  {
   "cell_type": "code",
   "execution_count": 7,
   "outputs": [],
   "source": [
    "from scipy.io import loadmat\n",
    "\n",
    "\n",
    "K1 = loadmat('data/camParams/K1.mat')['K1']\n",
    "K2 = loadmat('data/camParams/K2.mat')['K2']\n",
    "R2 = loadmat('data/camParams/R2.mat')['R2']\n",
    "T2 = loadmat('data/camParams/T2.mat')['T2']"
   ],
   "metadata": {
    "collapsed": false,
    "ExecuteTime": {
     "end_time": "2023-10-10T11:24:37.523812Z",
     "start_time": "2023-10-10T11:24:37.260893Z"
    }
   }
  },
  {
   "cell_type": "markdown",
   "source": [
    "### Calculate P1 and P2 projection matrices using Intrinsic and Extrinsic Parameters"
   ],
   "metadata": {
    "collapsed": false
   }
  },
  {
   "cell_type": "code",
   "execution_count": 8,
   "outputs": [],
   "source": [
    "P1 = K1 @ np.hstack((np.identity(3), np.zeros((3, 1))))\n",
    "P2 = K2 @ np.hstack((R2, T2.reshape(3, 1)))"
   ],
   "metadata": {
    "collapsed": false,
    "ExecuteTime": {
     "end_time": "2023-10-10T11:24:39.008270Z",
     "start_time": "2023-10-10T11:24:39.002131Z"
    }
   }
  },
  {
   "cell_type": "markdown",
   "source": [
    "### Write a function that given P1 and P2 and Camera Coordinates of point1 and point2 calculates world coordinates"
   ],
   "metadata": {
    "collapsed": false
   }
  },
  {
   "cell_type": "code",
   "execution_count": 9,
   "outputs": [],
   "source": [
    "def triangulatePoints(P1, P2, point1, point2):\n",
    "    A = np.zeros((4,4))\n",
    "    for i in range(len(point1)):\n",
    "        A[i, :] = point1[i]*P1[2, :] - P1[i, :]\n",
    "        A[i+2, :] = point2[i]*P2[2, :] - P2[i, :]\n",
    "\n",
    "    _, _, V = np.linalg.svd(A)\n",
    "    X = V[-1, :4]\n",
    "    X = X/X[3]\n",
    "    return X"
   ],
   "metadata": {
    "collapsed": false,
    "ExecuteTime": {
     "end_time": "2023-10-10T11:24:40.213987Z",
     "start_time": "2023-10-10T11:24:40.206828Z"
    }
   }
  },
  {
   "cell_type": "code",
   "execution_count": 10,
   "outputs": [],
   "source": [
    "traj3D = []\n",
    "for idx, row in path_position_df.iterrows():\n",
    "    point1 = row['dev0']\n",
    "    point2 = row['dev1']\n",
    "    x, y, z, _ = triangulatePoints(P1, P2, point1.T, point2.T)\n",
    "\n",
    "\n",
    "    traj3D.append([x,y,z])"
   ],
   "metadata": {
    "collapsed": false,
    "ExecuteTime": {
     "end_time": "2023-10-10T11:24:41.037498Z",
     "start_time": "2023-10-10T11:24:41.004166Z"
    }
   }
  },
  {
   "cell_type": "markdown",
   "source": [
    "#### Visualise the result as animation"
   ],
   "metadata": {
    "collapsed": false
   }
  },
  {
   "cell_type": "code",
   "execution_count": null,
   "outputs": [],
   "source": [
    "traj3D = np.array(traj3D) / 1000\n",
    "# Create a figure\n",
    "fig = plt.figure(figsize=(20, 10))\n",
    "\n",
    "# Create subplots\n",
    "ax0 = fig.add_subplot(1, 3, 1)\n",
    "ax1 = fig.add_subplot(1, 3, 2)\n",
    "ax2 = fig.add_subplot(1, 3, 3, projection='3d')\n",
    "\n",
    "# Set 3D plot title and labels\n",
    "ax2.set_title('3D Trajectory of the Drone')\n",
    "ax2.set_xlabel('X')\n",
    "ax2.set_ylabel('Y')\n",
    "ax2.set_zlabel('Z')\n",
    "\n",
    "# Get number of frames\n",
    "N = len(path_position_df)\n",
    "\n",
    "# Animation update function\n",
    "def update(t):\n",
    "    # Clear each subplot\n",
    "    ax0.cla()\n",
    "    ax1.cla()\n",
    "    ax2.cla()\n",
    "\n",
    "    # Retrieve the image name and coordinates\n",
    "    row = path_position_df.iloc[t]\n",
    "    image_name = row['name']\n",
    "    dev0_coordinates = row['dev0']\n",
    "    dev1_coordinates = row['dev1']\n",
    "\n",
    "    # Load the images\n",
    "    dev0_image = cv2.imread(f'data/drone_dataset/dev0/Dev0_{image_name}')\n",
    "    dev1_image = cv2.imread(f'data/drone_dataset/dev1/Dev1_{image_name}')\n",
    "\n",
    "    # Draw circles on the images\n",
    "    cv2.circle(dev0_image, (int(dev0_coordinates[0]), int(dev0_coordinates[1])), 40, (0, 255, 0), 3)\n",
    "    cv2.circle(dev1_image, (int(dev1_coordinates[0]), int(dev1_coordinates[1])), 40, (0, 255, 0), 3)\n",
    "\n",
    "    # Convert BGR image to RGB for plotting\n",
    "    dev0_image_rgb = cv2.cvtColor(dev0_image, cv2.COLOR_BGR2RGB)\n",
    "    dev1_image_rgb = cv2.cvtColor(dev1_image, cv2.COLOR_BGR2RGB)\n",
    "\n",
    "    # Display dev0 image\n",
    "    ax0.imshow(dev1_image_rgb)\n",
    "    ax0.set_title('Dev1 Image')\n",
    "    ax0.axis('off')\n",
    "\n",
    "    # Display dev1 image\n",
    "    ax1.imshow(dev0_image_rgb)\n",
    "    ax1.set_title('Dev0 Image')\n",
    "    ax1.axis('off')\n",
    "\n",
    "    # Display 3D trajectory\n",
    "    ax2.plot(traj3D[:t+1, 0], traj3D[:t+1, 1], traj3D[:t+1, 2], color='b')\n",
    "    ax2.set_title('3D Trajectory of the Drone')\n",
    "    ax2.set_xlabel('X')\n",
    "    ax2.set_ylabel('Y')\n",
    "    ax2.set_zlabel('Z')\n",
    "\n",
    "# Create animation\n",
    "ani = animation.FuncAnimation(fig, update, frames=N)\n",
    "\n",
    "# Display animation\n",
    "plt.show()\n"
   ],
   "metadata": {
    "collapsed": false,
    "is_executing": true,
    "ExecuteTime": {
     "start_time": "2023-10-10T11:24:42.416706Z"
    }
   }
  },
  {
   "cell_type": "markdown",
   "source": [
    "# Validate Result"
   ],
   "metadata": {
    "collapsed": false
   }
  },
  {
   "cell_type": "code",
   "execution_count": 9,
   "outputs": [
    {
     "name": "stdout",
     "output_type": "stream",
     "text": [
      "error 3.550600581939424e-11  | passed\n"
     ]
    }
   ],
   "source": [
    "rmse = lambda a,b: np.sqrt((a - b).flatten() @ (a - b).flatten())\n",
    "\n",
    "if rmse(traj3D, np.loadtxt('data/drone_3Dtraj.txt')) < 0.0001:\n",
    "    print('error',rmse(traj3D, np.loadtxt('data/drone_3Dtraj.txt')), ' | passed')"
   ],
   "metadata": {
    "collapsed": false,
    "ExecuteTime": {
     "end_time": "2023-10-08T20:13:06.909309Z",
     "start_time": "2023-10-08T20:13:06.900719Z"
    }
   }
  },
  {
   "cell_type": "code",
   "execution_count": 9,
   "outputs": [],
   "source": [],
   "metadata": {
    "collapsed": false,
    "ExecuteTime": {
     "end_time": "2023-10-08T20:13:06.909460Z",
     "start_time": "2023-10-08T20:13:06.905793Z"
    }
   }
  }
 ],
 "metadata": {
  "kernelspec": {
   "display_name": "Python 3",
   "language": "python",
   "name": "python3"
  },
  "language_info": {
   "codemirror_mode": {
    "name": "ipython",
    "version": 2
   },
   "file_extension": ".py",
   "mimetype": "text/x-python",
   "name": "python",
   "nbconvert_exporter": "python",
   "pygments_lexer": "ipython2",
   "version": "2.7.6"
  }
 },
 "nbformat": 4,
 "nbformat_minor": 0
}
